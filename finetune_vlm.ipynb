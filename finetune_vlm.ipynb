{
  "cells": [
    {
      "cell_type": "code",
      "execution_count": 1,
      "metadata": {},
      "outputs": [
        {
          "name": "stderr",
          "output_type": "stream",
          "text": [
            "/home/madhusudhanan.a/.conda/envs/vlm_ft/lib/python3.10/site-packages/tqdm/auto.py:21: TqdmWarning: IProgress not found. Please update jupyter and ipywidgets. See https://ipywidgets.readthedocs.io/en/stable/user_install.html\n",
            "  from .autonotebook import tqdm as notebook_tqdm\n",
            "Using the `WANDB_DISABLED` environment variable is deprecated and will be removed in v5. Use the --report_to flag to control the integrations used for logging result (for instance --report_to none).\n"
          ]
        }
      ],
      "source": [
        "import os\n",
        "os.environ[\"WANDB_DISABLED\"] = \"true\"\n",
        "\n",
        "from datasets import load_dataset\n",
        "import torch\n",
        "from transformers import Qwen2VLForConditionalGeneration, Qwen2VLProcessor, BitsAndBytesConfig\n",
        "from peft import LoraConfig, get_peft_model\n",
        "from trl import SFTConfig, SFTTrainer\n",
        "\n",
        "import warnings\n",
        "warnings.filterwarnings(\"ignore\")"
      ]
    },
    {
      "cell_type": "code",
      "execution_count": 2,
      "metadata": {},
      "outputs": [
        {
          "name": "stdout",
          "output_type": "stream",
          "text": [
            "Using device: cuda\n",
            "NUM_STEPS: 210\n"
          ]
        }
      ],
      "source": [
        "device = \"cuda\" if torch.cuda.is_available() else \"cpu\"\n",
        "print(f\"Using device: {device}\")\n",
        "\n",
        "MODEL_ID = \"Qwen/Qwen2-VL-2B-Instruct\"\n",
        "EPOCHS = 3\n",
        "BATCH_SIZE = 4\n",
        "GRADIENT_CHECKPOINTING = True # Calculate intermediate activations again during the back propogation to save memorey (but computation time will increment)\n",
        "USE_REENTRANT = False,\n",
        "OPTIM = \"paged_adamw_32bit\"\n",
        "LEARNING_RATE = 2e-5\n",
        "LOGGING_STEPS = 50\n",
        "EVAL_STEPS = 200\n",
        "SAVE_STEPS = 200\n",
        "EVAL_STRATEGY = \"steps\"\n",
        "SAVE_STRATEGY = \"steps\"\n",
        "METRIC_FOR_BEST_MODEL=\"eval_loss\"\n",
        "LOAD_BEST_MODEL_AT_END=True\n",
        "MAX_GRAD_NORM = 1 # gradient clipping.\n",
        "WARMUP_STEPS = 0\n",
        "DATASET_KWARGS={\"skip_prepare_dataset\": True} # telling the trainer not to do any internal preprocessing or preparation\n",
        "REMOVE_UNUSED_COLUMNS = False \n",
        "MAX_SEQ_LEN=128\n",
        "NUM_STEPS = (283 // BATCH_SIZE) * EPOCHS\n",
        "print(f\"NUM_STEPS: {NUM_STEPS}\")\n"
      ]
    },
    {
      "cell_type": "code",
      "execution_count": 3,
      "metadata": {},
      "outputs": [],
      "source": [
        "system_message = \"\"\"You are a highly advanced Vision Language Model (VLM), specialized in analyzing, describing, and interpreting visual data. \n",
        "Your task is to process and extract meaningful insights from images, videos, and visual patterns, \n",
        "leveraging multimodal understanding to provide accurate and contextually relevant information.\"\"\"\n",
        "\n",
        "def format_data(sample):\n",
        "    return [\n",
        "        {\n",
        "            \"role\": \"system\",\n",
        "            \"content\": [{\"type\": \"text\", \"text\": system_message}],\n",
        "        },\n",
        "        {\n",
        "            \"role\": \"user\",\n",
        "            \"content\": [\n",
        "                {\n",
        "                    \"type\": \"image\",\n",
        "                    \"image\": sample[\"image\"],\n",
        "                },\n",
        "                {\n",
        "                    \"type\": \"text\",\n",
        "                    \"text\": sample[\"query\"],\n",
        "                },\n",
        "            ],\n",
        "        },\n",
        "        {\n",
        "            \"role\": \"assistant\",\n",
        "            \"content\": [{\"type\": \"text\", \"text\": sample[\"label\"][0]}],\n",
        "        },\n",
        "    ]"
      ]
    },
    {
      "cell_type": "code",
      "execution_count": 4,
      "metadata": {},
      "outputs": [
        {
          "name": "stdout",
          "output_type": "stream",
          "text": [
            "2830\n",
            "------------------------------\n",
            "Dataset({\n",
            "    features: ['image', 'query', 'label', 'human_or_machine'],\n",
            "    num_rows: 2830\n",
            "})\n",
            "------------------------------\n",
            "{'image': <PIL.PngImagePlugin.PngImageFile image mode=RGB size=422x359 at 0x2BA77B31FBB0>, 'query': 'Is the value of Favorable 38 in 2015?', 'label': ['Yes'], 'human_or_machine': 0}\n",
            "------------------------------\n",
            "2830\n",
            "------------------------------\n",
            "[{'role': 'system', 'content': [{'type': 'text', 'text': 'You are a highly advanced Vision Language Model (VLM), specialized in analyzing, describing, and interpreting visual data. \\nYour task is to process and extract meaningful insights from images, videos, and visual patterns, \\nleveraging multimodal understanding to provide accurate and contextually relevant information.'}]}, {'role': 'user', 'content': [{'type': 'image', 'image': <PIL.PngImagePlugin.PngImageFile image mode=RGB size=422x359 at 0x2BA87D415F90>}, {'type': 'text', 'text': 'Is the value of Favorable 38 in 2015?'}]}, {'role': 'assistant', 'content': [{'type': 'text', 'text': 'Yes'}]}]\n",
            "------------------------------\n",
            "250\n",
            "------------------------------\n",
            "[{'role': 'system', 'content': [{'type': 'text', 'text': 'You are a highly advanced Vision Language Model (VLM), specialized in analyzing, describing, and interpreting visual data. \\nYour task is to process and extract meaningful insights from images, videos, and visual patterns, \\nleveraging multimodal understanding to provide accurate and contextually relevant information.'}]}, {'role': 'user', 'content': [{'type': 'image', 'image': <PIL.PngImagePlugin.PngImageFile image mode=RGBA size=850x600 at 0x2BA87D3E2020>}, {'type': 'text', 'text': 'How many food item is shown in the bar graph?'}]}, {'role': 'assistant', 'content': [{'type': 'text', 'text': '14'}]}]\n"
          ]
        }
      ],
      "source": [
        "train_dataset, eval_dataset,test_dataset = load_dataset(\"HuggingFaceM4/ChartQA\",split=[\"train[:10%]\", \"val[:10%]\", \"test[:10%]\"])\n",
        "\n",
        "print(len(train_dataset))\n",
        "print(\"-\"*30)\n",
        "print(train_dataset)\n",
        "print(\"-\"*30)\n",
        "print(train_dataset[0])\n",
        "print(\"-\"*30)\n",
        "\n",
        "train_dataset = [format_data(sample) for sample in train_dataset]\n",
        "eval_dataset = [format_data(sample) for sample in eval_dataset]\n",
        "test_dataset = [format_data(sample) for sample in test_dataset]\n",
        "\n",
        "print(len(train_dataset))\n",
        "print(\"-\"*30)\n",
        "print(train_dataset[0])\n",
        "print(\"-\"*30)\n",
        "print(len(test_dataset))\n",
        "print(\"-\"*30)\n",
        "print(test_dataset[0])                                                    "
      ]
    },
    {
      "cell_type": "code",
      "execution_count": 5,
      "metadata": {},
      "outputs": [
        {
          "name": "stdout",
          "output_type": "stream",
          "text": [
            "Two segments have the same percentage value, what's that value?\n",
            "2\n"
          ]
        },
        {
          "data": {
            "image/jpeg": "[encoded data removed]",
            "image/png": "[encoded data removed]",
            "text/plain": [
              "<PIL.PngImagePlugin.PngImageFile image mode=RGB size=460x310>"
            ]
          },
          "execution_count": 5,
          "metadata": {},
          "output_type": "execute_result"
        }
      ],
      "source": [
        "sample_data = test_dataset[15]\n",
        "sample_question = sample_data[1][\"content\"][1][\"text\"]\n",
        "sample_answer = sample_data[2][\"content\"][0][\"text\"]\n",
        "sample_image = sample_data[1][\"content\"][0][\"image\"]\n",
        "\n",
        "print(sample_question)\n",
        "print(sample_answer)\n",
        "sample_image"
      ]
    },
    {
      "cell_type": "code",
      "execution_count": 9,
      "metadata": {},
      "outputs": [
        {
          "name": "stderr",
          "output_type": "stream",
          "text": [
            "Loading checkpoint shards: 100%|██████████| 2/2 [00:03<00:00,  1.65s/it]\n",
            "Using a slow image processor as `use_fast` is unset and a slow processor was saved with this model. `use_fast=True` will be the default behavior in v4.52, even if the model was saved with a slow processor. This will result in minor differences in outputs. You'll still be able to use a slow processor with `use_fast=False`.\n"
          ]
        }
      ],
      "source": [
        "if device == \"cuda\":\n",
        "    bnb_config = BitsAndBytesConfig(\n",
        "        load_in_4bit=True,                      # Load model weights in 4-bit precision to reduce GPU memory usage\n",
        "        bnb_4bit_use_double_quant=True,         # Apply double quantization: compress quantization constants too\n",
        "        bnb_4bit_quant_type=\"nf4\",              # Use 'nf4' (Normalized Float 4) for better accuracy in 4-bit quantization\n",
        "        bnb_4bit_compute_dtype=torch.bfloat16   # Computation happens in bfloat16 (not 4-bit) for stability and speed\n",
        "    )\n",
        "\n",
        "    model = Qwen2VLForConditionalGeneration.from_pretrained(\n",
        "        MODEL_ID,\n",
        "        device_map=\"auto\",                      # Automatically map model parts to available devices (e.g., GPU)\n",
        "        quantization_config=bnb_config,         # Apply the BitsAndBytes 4-bit quantization config\n",
        "        use_cache=False                         # Disable KV (Key/Value) caching for attention layers; \n",
        "                                                # useful during training or when dynamic input lengths are used\n",
        "    )\n",
        "else:\n",
        "    model = Qwen2VLForConditionalGeneration.from_pretrained(\n",
        "        MODEL_ID, \n",
        "        use_cache=False\n",
        "        )\n",
        "    \n",
        "processor = Qwen2VLProcessor.from_pretrained(MODEL_ID)\n",
        "processor.tokenizer.padding_side = \"right\"\n"
      ]
    },
    {
      "cell_type": "code",
      "execution_count": 10,
      "metadata": {},
      "outputs": [
        {
          "name": "stdout",
          "output_type": "stream",
          "text": [
            "prompt: <|im_start|>system\n",
            "You are a highly advanced Vision Language Model (VLM), specialized in analyzing, describing, and interpreting visual data. \n",
            "Your task is to process and extract meaningful insights from images, videos, and visual patterns, \n",
            "leveraging multimodal understanding to provide accurate and contextually relevant information.<|im_end|>\n",
            "<|im_start|>user\n",
            "<|vision_start|><|image_pad|><|vision_end|>Two segments have the same percentage value, what's that value?<|im_end|>\n",
            "<|im_start|>assistant\n",
            "\n",
            "------------------------------\n",
            "Generated Answer: system\n",
            "You are a highly advanced Vision Language Model (VLM), specialized in analyzing, describing, and interpreting visual data. \n",
            "Your task is to process and extract meaningful insights from images, videos, and visual patterns, \n",
            "leveraging multimodal understanding to provide accurate and contextually relevant information.\n",
            "user\n",
            "Two segments have the same percentage value, what's that value?\n",
            "assistant\n",
            "50\n",
            "Actual Answer: 2\n"
          ]
        }
      ],
      "source": [
        "def text_generator(sample_data):\n",
        "  text = processor.apply_chat_template(sample_data[0:2], tokenize=False, add_generation_prompt = True)\n",
        "  print(f\"prompt: {text}\")\n",
        "  print(\"-\"*30)\n",
        "\n",
        "  image_inputs = sample_data[1][\"content\"][0][\"image\"]\n",
        "  inputs = processor(text=[text],\n",
        "                     images = image_inputs,\n",
        "                     return_tensors=\"pt\"\n",
        "                     ).to(device)\n",
        "  generated_ids = model.generate(**inputs, max_new_tokens=MAX_SEQ_LEN)\n",
        "  output_text = processor.batch_decode(generated_ids,skip_special_tokens=True)\n",
        "  del inputs\n",
        "  actual_answer = sample_data[2][\"content\"][0][\"text\"]\n",
        "  return output_text[0], actual_answer\n",
        "\n",
        "generated_text, actual_answer = text_generator(sample_data)\n",
        "print(f\"Generated Answer: {generated_text}\")\n",
        "print(f\"Actual Answer: {actual_answer}\")\n"
      ]
    },
    {
      "cell_type": "code",
      "execution_count": 11,
      "metadata": {},
      "outputs": [
        {
          "name": "stdout",
          "output_type": "stream",
          "text": [
            "Before adapter parameters: 2208985600\n",
            "trainable params: 1,089,536 || all params: 2,210,075,136 || trainable%: 0.0493\n"
          ]
        }
      ],
      "source": [
        "peft_config = LoraConfig(\n",
        "    lora_alpha=16,\n",
        "    lora_dropout=0.1,\n",
        "    r = 8,\n",
        "    bias = \"none\",\n",
        "    target_modules=[\"q_proj\", \"v_proj\"],\n",
        "    task_type=\"CAUSAL_LM\"\n",
        ")\n",
        "\n",
        "print(f\"Before adapter parameters: {model.num_parameters()}\")\n",
        "peft_model = get_peft_model(model, peft_config)\n",
        "peft_model.print_trainable_parameters() "
      ]
    },
    {
      "cell_type": "code",
      "execution_count": 12,
      "metadata": {},
      "outputs": [
        {
          "name": "stderr",
          "output_type": "stream",
          "text": [
            "Using the `WANDB_DISABLED` environment variable is deprecated and will be removed in v5. Use the --report_to flag to control the integrations used for logging result (for instance --report_to none).\n"
          ]
        }
      ],
      "source": [
        "training_args = SFTConfig(\n",
        "    output_dir=\"./output\",\n",
        "    num_train_epochs=EPOCHS,\n",
        "    per_device_train_batch_size=BATCH_SIZE,\n",
        "    per_device_eval_batch_size=BATCH_SIZE,\n",
        "    gradient_checkpointing=GRADIENT_CHECKPOINTING,\n",
        "    learning_rate=LEARNING_RATE,\n",
        "    logging_steps=LOGGING_STEPS,\n",
        "    eval_steps=EVAL_STEPS,\n",
        "    eval_strategy=EVAL_STRATEGY,\n",
        "    save_strategy=SAVE_STRATEGY,\n",
        "    save_steps=SAVE_STEPS,\n",
        "    metric_for_best_model=METRIC_FOR_BEST_MODEL,\n",
        "    load_best_model_at_end=LOAD_BEST_MODEL_AT_END,\n",
        "    max_grad_norm=MAX_GRAD_NORM,\n",
        "    warmup_steps=WARMUP_STEPS,\n",
        "    dataset_kwargs=DATASET_KWARGS,\n",
        "    max_seq_length=MAX_SEQ_LEN,\n",
        "    remove_unused_columns = REMOVE_UNUSED_COLUMNS,\n",
        "    optim=OPTIM,\n",
        ")"
      ]
    },
    {
      "cell_type": "code",
      "execution_count": 13,
      "metadata": {},
      "outputs": [
        {
          "name": "stdout",
          "output_type": "stream",
          "text": [
            "dict_keys(['input_ids', 'attention_mask', 'pixel_values', 'image_grid_thw', 'labels'])\n"
          ]
        }
      ],
      "source": [
        "from qwen_vl_utils import process_vision_info\n",
        "\n",
        "collate_sample = [train_dataset[0], train_dataset[1]] # for batch size 2.\n",
        "\n",
        "def collate_fn(examples):\n",
        "    # Get the texts and images, and apply the chat template\n",
        "    texts = [processor.apply_chat_template(example, tokenize=False) for example in examples]  # Prepare texts for processing\n",
        "    image_inputs = [process_vision_info(example)[0] for example in examples]  # Process the images to extract inputs\n",
        "\n",
        "    # Tokenize the texts and process the images\n",
        "    batch = processor(text=texts, images=image_inputs, return_tensors=\"pt\", padding=True)  # Encode texts and images into tensors\n",
        "\n",
        "    # The labels are the input_ids, and we mask the padding tokens in the loss computation\n",
        "    labels = batch[\"input_ids\"].clone()  # Clone input IDs for labels\n",
        "    labels[labels == processor.tokenizer.pad_token_id] = -100  # Mask padding tokens in labels\n",
        "\n",
        "    # Ignore the image token index in the loss computation (model specific)\n",
        "    if isinstance(processor, Qwen2VLProcessor):  # Check if the processor is Qwen2VLProcessor\n",
        "        image_tokens = [151652, 151653, 151655]  # Specific image token IDs for Qwen2VLProcessor\n",
        "    else:\n",
        "        image_tokens = [processor.tokenizer.convert_tokens_to_ids(processor.image_token)]  # Convert image token to ID\n",
        "\n",
        "    # Mask image token IDs in the labels\n",
        "    for image_token_id in image_tokens:\n",
        "        labels[labels == image_token_id] = -100  # Mask image token IDs in labels\n",
        "\n",
        "    batch[\"labels\"] = labels  # Add labels to the batch\n",
        "\n",
        "    return batch  # Return the prepared batch\n",
        "\n",
        "\n",
        "\n",
        "\n",
        "collated_data = collate_fn(collate_sample)\n",
        "print(collated_data.keys())"
      ]
    },
    {
      "cell_type": "code",
      "execution_count": 14,
      "metadata": {},
      "outputs": [
        {
          "name": "stderr",
          "output_type": "stream",
          "text": [
            "Detected kernel version 3.10.0, which is below the recommended minimum of 5.5.0; this can cause the process to hang. It is recommended to upgrade the kernel to the minimum version or higher.\n",
            "No label_names provided for model class `PeftModelForCausalLM`. Since `PeftModel` hides base models input arguments, if label_names is not given, label_names can't be set automatically within `Trainer`. Note that empty label_names list will be used instead.\n"
          ]
        }
      ],
      "source": [
        "trainer = SFTTrainer(\n",
        "    model=model,\n",
        "    args=training_args,\n",
        "    train_dataset=train_dataset,\n",
        "    eval_dataset=eval_dataset,\n",
        "    data_collator=collate_fn,\n",
        "    peft_config=peft_config,\n",
        "    processing_class=processor.tokenizer,\n",
        ")"
      ]
    },
    {
      "cell_type": "code",
      "execution_count": null,
      "metadata": {},
      "outputs": [],
      "source": [
        "print(\"-\"*30)\n",
        "print(\"Initial Evaluation\")\n",
        "metric = trainer.evaluate()\n",
        "print(metric)\n",
        "print(\"-\"*30)\n",
        "\n",
        "print(\"Training\")\n",
        "trainer.train()\n",
        "print(\"-\"*30)"
      ]
    },
    {
      "cell_type": "code",
      "execution_count": null,
      "metadata": {},
      "outputs": [
        {
          "name": "stdout",
          "output_type": "stream",
          "text": [
            "GPU allocated memory: 0.00 GB\n",
            "GPU reserved memory: 0.00 GB\n"
          ]
        }
      ],
      "source": [
        "import gc\n",
        "import time\n",
        "\n",
        "# https://huggingface.co/learn/cookbook/en/fine_tuning_vlm_trl\n",
        "def clear_memory():\n",
        "    if \"inputs\" in globals():\n",
        "        del globals()[\"inputs\"]\n",
        "    if \"model\" in globals():\n",
        "        del globals()[\"model\"]\n",
        "    if \"processor\" in globals():\n",
        "        del globals()[\"processor\"]\n",
        "    if \"trainer\" in globals():\n",
        "        del globals()[\"trainer\"]\n",
        "    if \"peft_model\" in globals():\n",
        "        del globals()[\"peft_model\"]\n",
        "    if \"bnb_config\" in globals():\n",
        "        del globals()[\"bnb_config\"]\n",
        "    time.sleep(2)\n",
        "\n",
        "    gc.collect()\n",
        "    time.sleep(2)\n",
        "    torch.cuda.empty_cache()\n",
        "    torch.cuda.synchronize()\n",
        "    time.sleep(2)\n",
        "    gc.collect()\n",
        "    time.sleep(2)\n",
        "\n",
        "    print(f\"GPU allocated memory: {torch.cuda.memory_allocated() / 1024**3:.2f} GB\")\n",
        "    print(f\"GPU reserved memory: {torch.cuda.memory_reserved() / 1024**3:.2f} GB\")\n",
        "\n",
        "\n",
        "clear_memory()"
      ]
    },
    {
      "cell_type": "code",
      "execution_count": 15,
      "metadata": {},
      "outputs": [
        {
          "name": "stderr",
          "output_type": "stream",
          "text": [
            "Loading checkpoint shards: 100%|██████████| 2/2 [00:02<00:00,  1.32s/it]\n"
          ]
        }
      ],
      "source": [
        "if device == \"cuda\":\n",
        "    bnb_config = BitsAndBytesConfig(\n",
        "        load_in_4bit=True,\n",
        "        bnb_4bit_use_double_quant=True,\n",
        "        bnb_4bit_quant_type=\"nf4\",\n",
        "        bnb_4bit_compute_dtype=torch.bfloat16\n",
        "    )\n",
        "    model = Qwen2VLForConditionalGeneration.from_pretrained(\n",
        "        MODEL_ID, \n",
        "        device_map=\"auto\", \n",
        "        quantization_config=bnb_config,\n",
        "        use_cache=True\n",
        "        )\n",
        "\n",
        "else:\n",
        "    model = Qwen2VLForConditionalGeneration.from_pretrained(\n",
        "        MODEL_ID, \n",
        "        use_cache=True\n",
        "        )\n",
        "    \n",
        "processor = Qwen2VLProcessor.from_pretrained(MODEL_ID)\n",
        "processor.tokenizer.padding_side = \"right\""
      ]
    },
    {
      "cell_type": "code",
      "execution_count": 16,
      "metadata": {},
      "outputs": [
        {
          "name": "stdout",
          "output_type": "stream",
          "text": [
            "Before adapter parameters: 2208985600\n",
            "After adapter parameters: 2210075136\n"
          ]
        }
      ],
      "source": [
        "print(f\"Before adapter parameters: {model.num_parameters()}\")\n",
        "model.load_adapter(\"/home/madhusudhanan.a/vlms/output/checkpoint-1000\")\n",
        "print(f\"After adapter parameters: {model.num_parameters()}\")"
      ]
    },
    {
      "cell_type": "code",
      "execution_count": null,
      "metadata": {},
      "outputs": [],
      "source": [
        "generated_text, actual_answer = text_generator(test_dataset[1])\n",
        "print(f\"Generated Answer: {generated_text}\")\n",
        "print(f\"Actual Answer: {actual_answer}\")"
      ]
    }
  ],
  "metadata": {
    "kernelspec": {
      "display_name": "Python (vlm_ft)",
      "language": "python",
      "name": "vlm_ft"
    },
    "language_info": {
      "codemirror_mode": {
        "name": "ipython",
        "version": 3
      },
      "file_extension": ".py",
      "mimetype": "text/x-python",
      "name": "python",
      "nbconvert_exporter": "python",
      "pygments_lexer": "ipython3",
      "version": "3.10.17"
    }
  },
  "nbformat": 4,
  "nbformat_minor": 2
}
