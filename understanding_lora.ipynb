{
 "cells": [
  {
   "cell_type": "code",
   "execution_count": null,
   "id": "9e8b3207",
   "metadata": {},
   "outputs": [],
   "source": [
    "# Import Libraries\n",
    "import torch\n",
    "import torchvision.datasets as datasets\n",
    "import torchvision.transforms as transforms\n",
    "import torch.nn as nn\n",
    "import matplotlib.pyplot as plt\n",
    "from tqdm import tqdm\n",
    "\n",
    "_ = torch.manual_seed(0)"
   ]
  },
  {
   "cell_type": "markdown",
   "id": "8bdccd3a",
   "metadata": {},
   "source": [
    "We will use a simple MNIST Network to demonstrate the LoRA implementation using PyTorch. The idea is that we will train an initial model for just one epoch , thereby creating a base model which do not work very well on certain digits (Analogy to a huge pre trained LLM). Then we will use LoRA to train the model on a specific digit (e.g. 0) and see how it performs on that digit. We will also see how the model performs on other digits after training with LoRA."
   ]
  },
  {
   "cell_type": "code",
   "execution_count": null,
   "id": "c97dde12",
   "metadata": {},
   "outputs": [],
   "source": [
    "# Download MNIST Datasset\n",
    "\n",
    "transform  = transforms.Compose([transforms.ToTensor(), transforms.Normalize((0.1307,),(0.3081,))])\n",
    "\n",
    "mnist_trainset = datasets.MNIST(root='./data', train=True,download=True,transform=transform)\n",
    "train_loader = torch.utils.data.DataLoader(mnist_trainset,batch_size=10,shuffle=True)\n",
    "\n",
    "mnist_testset = datasets.MNIST(root='./data',train=False,download = True, transform=transform)\n",
    "test_loader = torch.utils.data.DataLoader(mnist_testset,batch_size=10,shuffle=True)\n",
    "\n",
    "device = torch.device(\"cuda\" if torch.cuda.is_available() else \"cpu\")\n"
   ]
  },
  {
   "cell_type": "code",
   "execution_count": null,
   "id": "2f714186",
   "metadata": {},
   "outputs": [],
   "source": [
    "# Define the network\n",
    "class RichBoyNet(nn.Module):\n",
    "    def __init__(self, hidden_size_1=1000, hidden_size_2=2000):\n",
    "        super(RichBoyNet,self).__init__()\n",
    "        self.linear1 = nn.Linear(28*28, hidden_size_1) \n",
    "        self.linear2 = nn.Linear(hidden_size_1, hidden_size_2) \n",
    "        self.linear3 = nn.Linear(hidden_size_2, 10)\n",
    "        self.relu = nn.ReLU()\n",
    "\n",
    "    def forward(self, img):\n",
    "        x = img.view(-1, 28*28)\n",
    "        x = self.relu(self.linear1(x))\n",
    "        x = self.relu(self.linear2(x))\n",
    "        x = self.linear3(x)\n",
    "        return x\n",
    "\n",
    "net = RichBoyNet().to(device)\n",
    "\n"
   ]
  },
  {
   "cell_type": "code",
   "execution_count": null,
   "id": "5c0a3f95",
   "metadata": {},
   "outputs": [
    {
     "name": "stderr",
     "output_type": "stream",
     "text": [
      "Epoch 1: 100%|██████████| 6000/6000 [03:52<00:00, 25.85it/s, avg_loss=0.2416]\n"
     ]
    }
   ],
   "source": [
    "# train function\n",
    "def train(train_loader,net,epochs=5,total_iterations_limit=None):\n",
    "    cross_el = nn.CrossEntropyLoss()\n",
    "    optimizer = torch.optim.Adam(net.parameters(),lr=0.001)\n",
    "\n",
    "    for epoch in range(epochs):\n",
    "        net.train()\n",
    "        num_iterations = 0\n",
    "        total_loss = 0.0\n",
    "        total_samples = 0\n",
    "        pbar = tqdm(train_loader, desc=f'Epoch {epoch+1}')\n",
    "        for x, y in pbar:\n",
    "            x = x.to(device)\n",
    "            y = y.to(device)\n",
    "            optimizer.zero_grad()\n",
    "            output = net(x.view(-1,28*28))\n",
    "            loss = cross_el(output,y)\n",
    "            batch_size = x.size(0)\n",
    "            total_loss += loss.item() * batch_size \n",
    "            total_samples += batch_size\n",
    "            loss.backward()\n",
    "            optimizer.step()\n",
    "            avg_loss = total_loss / total_samples\n",
    "            pbar.set_postfix({'avg_loss': f'{avg_loss:.4f}'})\n",
    "            num_iterations +=1\n",
    "            if num_iterations == total_iterations_limit : break\n",
    "\n",
    "train(train_loader,net,epochs=1)\n",
    "\n",
    "\n",
    "\n"
   ]
  },
  {
   "cell_type": "code",
   "execution_count": null,
   "id": "a378545b",
   "metadata": {},
   "outputs": [],
   "source": [
    "# Save a copy of original weights for comparison \n",
    "original_weights = {}\n",
    "for name,param in net.named_parameters():\n",
    "    original_weights[name] = param.clone().detach"
   ]
  },
  {
   "cell_type": "code",
   "execution_count": null,
   "id": "750ab05c",
   "metadata": {},
   "outputs": [
    {
     "name": "stderr",
     "output_type": "stream",
     "text": [
      "Testing: 100%|██████████| 1000/1000 [00:02<00:00, 350.56it/s]"
     ]
    },
    {
     "name": "stdout",
     "output_type": "stream",
     "text": [
      "Accuracy: 0.954\n",
      "wrong counts for the digit 0: 25\n",
      "wrong counts for the digit 1: 16\n",
      "wrong counts for the digit 2: 107\n",
      "wrong counts for the digit 3: 38\n",
      "wrong counts for the digit 4: 41\n",
      "wrong counts for the digit 5: 35\n",
      "wrong counts for the digit 6: 19\n",
      "wrong counts for the digit 7: 62\n",
      "wrong counts for the digit 8: 84\n",
      "wrong counts for the digit 9: 31\n"
     ]
    },
    {
     "name": "stderr",
     "output_type": "stream",
     "text": [
      "\n"
     ]
    }
   ],
   "source": [
    "# Define test function\n",
    "def test():\n",
    "    correct = 0\n",
    "    total = 0\n",
    "\n",
    "    wrong_counts = [0 for i in range(10)]\n",
    "    with torch.no_grad():\n",
    "        for data in tqdm(test_loader, desc='Testing'):\n",
    "            x, y = data\n",
    "            x = x.to(device)\n",
    "            y = y.to(device)\n",
    "            output = net(x.view(-1, 784))\n",
    "            for idx, i in enumerate(output):\n",
    "                if torch.argmax(i) == y[idx]:\n",
    "                    correct +=1\n",
    "                else:\n",
    "                    wrong_counts[y[idx]] +=1\n",
    "                total +=1\n",
    "    print(f'Accuracy: {round(correct/total, 3)}')\n",
    "    for i in range(len(wrong_counts)):\n",
    "        print(f'wrong counts for the digit {i}: {wrong_counts[i]}')\n",
    "\n",
    "test()"
   ]
  },
  {
   "cell_type": "markdown",
   "id": "515ea1d7",
   "metadata": {},
   "source": [
    "As shown, the performance of MNIST network after epoch 1 is not great on digit 2. So we will use LoRA to train the model on digit 2 and see how it performs on that digit."
   ]
  },
  {
   "cell_type": "code",
   "execution_count": null,
   "id": "c95f5177",
   "metadata": {},
   "outputs": [
    {
     "name": "stdout",
     "output_type": "stream",
     "text": [
      "Layer 1: W: torch.Size([1000, 784]) + B: torch.Size([1000])\n",
      "Layer 2: W: torch.Size([2000, 1000]) + B: torch.Size([2000])\n",
      "Layer 3: W: torch.Size([10, 2000]) + B: torch.Size([10])\n",
      "Total number of parameters: 2,807,010\n"
     ]
    }
   ],
   "source": [
    "# Find the total number of trainable parameters in the network\n",
    "total_parameters_original = 0\n",
    "for index, layer in enumerate([net.linear1, net.linear2, net.linear3]):\n",
    "    total_parameters_original += layer.weight.nelement() + layer.bias.nelement()\n",
    "    print(f'Layer {index+1}: W: {layer.weight.shape} + B: {layer.bias.shape}')\n",
    "print(f'Total number of parameters: {total_parameters_original:,}')"
   ]
  },
  {
   "cell_type": "markdown",
   "id": "c2684c75",
   "metadata": {},
   "source": [
    "We intoduce the LoRA layers into the PyTorch model using Parametrization technique. Refer to pytorch tutorial for more details : https://pytorch.org/tutorials/intermediate/parametrizations.html"
   ]
  },
  {
   "cell_type": "code",
   "execution_count": null,
   "id": "9a3f9232",
   "metadata": {},
   "outputs": [],
   "source": [
    "class LoRAParametrization(nn.Module):\n",
    "    def __init__(self,features_in,features_out,rank,alpha=1,device='cpu'):\n",
    "        super().__init__()\n",
    "        self.lora_A = nn.Parameter(torch.zeros((rank,features_out)).to(device))\n",
    "        self.lora_B = nn.Parameter(torch.zeros((features_in,rank)).to(device))\n",
    "        # Authors recommend to use a random Gaussian initialization for A and\n",
    "        #zero for B, so ∆W = BA is zero at the beginning of training.\n",
    "        nn.init.normal_(self.lora_A,mean=0,std=1)\n",
    "        # When optimizing with Adam, tuning α is roughly the same as tuning the learning\n",
    "        # rate if we scale the initialization appropriately. As a result, we simply set α to the first r we try\n",
    "        # and do not tune it. This scaling helps to reduce the need to retune hyperparameters when we vary r\n",
    "        self.scale = alpha / rank\n",
    "        self.enabled = True\n",
    "    \n",
    "    def forward(self,original_weights):\n",
    "        if self.enabled:\n",
    "            return original_weights + torch.matmul(self.lora_B,self.lora_A).view(original_weights.shape)*self.scale\n",
    "        else:\n",
    "            return original_weights"
   ]
  },
  {
   "cell_type": "code",
   "execution_count": null,
   "id": "c1623527",
   "metadata": {},
   "outputs": [],
   "source": [
    "# Transform linear layer to parameterized layer\n",
    "import torch.nn.utils.parametrize as parametrize\n",
    "\n",
    "def linear_layer_parameterization(layer,device,rank=1,lora_alpha=1):\n",
    "    features_in, features_out = layer.weight.shape\n",
    "    return LoRAParametrization(features_in,features_out,rank=rank,alpha=lora_alpha,device=device)\n",
    "\n",
    "parametrize.register_parametrization(net.linear1,\"weight\",linear_layer_parameterization(net.linear1,device))\n",
    "parametrize.register_parametrization(net.linear2, \"weight\", linear_layer_parameterization(net.linear2, device))\n",
    "parametrize.register_parametrization(net.linear3, \"weight\", linear_layer_parameterization(net.linear3, device))\n",
    "\n",
    "# Function to enebale and disable lora layers\n",
    "def enable_disable_lora(enabled=True):\n",
    "    for layer in [net.linear1,net.linear2,net.linear3]:\n",
    "        layer.parametrizations[\"weight\"][0].enabled = enabled"
   ]
  },
  {
   "cell_type": "code",
   "execution_count": null,
   "id": "373b7bc8",
   "metadata": {},
   "outputs": [
    {
     "name": "stdout",
     "output_type": "stream",
     "text": [
      "Layer 1: W: torch.Size([1000, 784]) + B: torch.Size([1000]) + Lora_A: torch.Size([1, 784]) + Lora_B: torch.Size([1000, 1])\n",
      "Layer 2: W: torch.Size([2000, 1000]) + B: torch.Size([2000]) + Lora_A: torch.Size([1, 1000]) + Lora_B: torch.Size([2000, 1])\n",
      "Layer 3: W: torch.Size([10, 2000]) + B: torch.Size([10]) + Lora_A: torch.Size([1, 2000]) + Lora_B: torch.Size([10, 1])\n",
      "Total number of parameters (original): 2,807,010\n",
      "Total number of parameters (original + LoRA): 2,813,804\n",
      "Parameters introduced by LoRA: 6,794\n",
      "Parameters incremment: 0.242%\n"
     ]
    }
   ],
   "source": [
    "# Compare the total number of trainable parameters\n",
    "total_parameters_lora = 0\n",
    "total_parameters_non_lora = 0\n",
    "for index, layer in enumerate([net.linear1, net.linear2, net.linear3]):\n",
    "    total_parameters_lora += layer.parametrizations[\"weight\"][0].lora_A.nelement() + layer.parametrizations[\"weight\"][0].lora_B.nelement()\n",
    "    total_parameters_non_lora += layer.weight.nelement() + layer.bias.nelement()\n",
    "    print(\n",
    "        f'Layer {index+1}: W: {layer.weight.shape} + B: {layer.bias.shape} + Lora_A: {layer.parametrizations[\"weight\"][0].lora_A.shape} + Lora_B: {layer.parametrizations[\"weight\"][0].lora_B.shape}'\n",
    "    )\n",
    "# The non-LoRA parameters count must match the original network\n",
    "assert total_parameters_non_lora == total_parameters_original\n",
    "print(f'Total number of parameters (original): {total_parameters_non_lora:,}')\n",
    "print(f'Total number of parameters (original + LoRA): {total_parameters_lora + total_parameters_non_lora:,}')\n",
    "print(f'Parameters introduced by LoRA: {total_parameters_lora:,}')\n",
    "parameters_incremment = (total_parameters_lora / total_parameters_non_lora) * 100\n",
    "print(f'Parameters incremment: {parameters_incremment:.3f}%')"
   ]
  },
  {
   "cell_type": "code",
   "execution_count": null,
   "id": "8572eff3",
   "metadata": {},
   "outputs": [
    {
     "data": {
      "text/plain": [
       "RichBoyNet(\n",
       "  (linear1): ParametrizedLinear(\n",
       "    in_features=784, out_features=1000, bias=True\n",
       "    (parametrizations): ModuleDict(\n",
       "      (weight): ParametrizationList(\n",
       "        (0): LoRAParametrization()\n",
       "      )\n",
       "    )\n",
       "  )\n",
       "  (linear2): ParametrizedLinear(\n",
       "    in_features=1000, out_features=2000, bias=True\n",
       "    (parametrizations): ModuleDict(\n",
       "      (weight): ParametrizationList(\n",
       "        (0): LoRAParametrization()\n",
       "      )\n",
       "    )\n",
       "  )\n",
       "  (linear3): ParametrizedLinear(\n",
       "    in_features=2000, out_features=10, bias=True\n",
       "    (parametrizations): ModuleDict(\n",
       "      (weight): ParametrizationList(\n",
       "        (0): LoRAParametrization()\n",
       "      )\n",
       "    )\n",
       "  )\n",
       "  (relu): ReLU()\n",
       ")"
      ]
     },
     "execution_count": 18,
     "metadata": {},
     "output_type": "execute_result"
    }
   ],
   "source": [
    "# Check the network , you can see the fused parametrized layers\n",
    "net"
   ]
  },
  {
   "cell_type": "code",
   "execution_count": null,
   "id": "968ae1cb",
   "metadata": {},
   "outputs": [
    {
     "name": "stdout",
     "output_type": "stream",
     "text": [
      "Freezing non-LoRA parameter linear1.bias\n",
      "Freezing non-LoRA parameter linear1.parametrizations.weight.original\n",
      "Freezing non-LoRA parameter linear2.bias\n",
      "Freezing non-LoRA parameter linear2.parametrizations.weight.original\n",
      "Freezing non-LoRA parameter linear3.bias\n",
      "Freezing non-LoRA parameter linear3.parametrizations.weight.original\n"
     ]
    },
    {
     "name": "stderr",
     "output_type": "stream",
     "text": [
      "Epoch 1: 100%|██████████| 596/596 [00:05<00:00, 107.84it/s, avg_loss=0.0551]\n"
     ]
    }
   ],
   "source": [
    "# Freeze the original weights\n",
    "for name,param in net.named_parameters():\n",
    "    if 'lora' not in name:\n",
    "        print(f'Freezing non-LoRA parameter {name}')\n",
    "        param.requires_grad = False\n",
    "\n",
    "# Load the MNIST dataset again, by keeping only the digit 9\n",
    "mnist_trainset = datasets.MNIST(root='./data', train=True, download=True, transform=transform)\n",
    "exclude_indices = mnist_trainset.targets == 2\n",
    "mnist_trainset.data = mnist_trainset.data[exclude_indices]\n",
    "mnist_trainset.targets = mnist_trainset.targets[exclude_indices]\n",
    "# Create a dataloader for the training\n",
    "train_loader = torch.utils.data.DataLoader(mnist_trainset, batch_size=10, shuffle=True)\n",
    "\n",
    "# Train the network with LoRA only on the digit 9 and only for 100 batches (hoping that it would improve the performance on the digit 9)\n",
    "train(train_loader, net, epochs=1)"
   ]
  },
  {
   "cell_type": "code",
   "execution_count": 23,
   "id": "636125b9",
   "metadata": {},
   "outputs": [
    {
     "name": "stderr",
     "output_type": "stream",
     "text": [
      "Testing: 100%|██████████| 1000/1000 [00:05<00:00, 195.07it/s]"
     ]
    },
    {
     "name": "stdout",
     "output_type": "stream",
     "text": [
      "Accuracy: 0.366\n",
      "wrong counts for the digit 0: 738\n",
      "wrong counts for the digit 1: 951\n",
      "wrong counts for the digit 2: 2\n",
      "wrong counts for the digit 3: 705\n",
      "wrong counts for the digit 4: 869\n",
      "wrong counts for the digit 5: 772\n",
      "wrong counts for the digit 6: 380\n",
      "wrong counts for the digit 7: 934\n",
      "wrong counts for the digit 8: 866\n",
      "wrong counts for the digit 9: 127\n"
     ]
    },
    {
     "name": "stderr",
     "output_type": "stream",
     "text": [
      "\n"
     ]
    }
   ],
   "source": [
    "# Test with LoRA enabled\n",
    "enable_disable_lora(enabled=True)\n",
    "test()"
   ]
  },
  {
   "cell_type": "code",
   "execution_count": null,
   "id": "0fb33d04",
   "metadata": {},
   "outputs": [
    {
     "name": "stderr",
     "output_type": "stream",
     "text": [
      "Testing: 100%|██████████| 1000/1000 [00:02<00:00, 434.79it/s]"
     ]
    },
    {
     "name": "stdout",
     "output_type": "stream",
     "text": [
      "Accuracy: 0.954\n",
      "wrong counts for the digit 0: 25\n",
      "wrong counts for the digit 1: 16\n",
      "wrong counts for the digit 2: 107\n",
      "wrong counts for the digit 3: 38\n",
      "wrong counts for the digit 4: 41\n",
      "wrong counts for the digit 5: 35\n",
      "wrong counts for the digit 6: 19\n",
      "wrong counts for the digit 7: 62\n",
      "wrong counts for the digit 8: 84\n",
      "wrong counts for the digit 9: 31\n"
     ]
    },
    {
     "name": "stderr",
     "output_type": "stream",
     "text": [
      "\n"
     ]
    }
   ],
   "source": [
    "# Test with LoRA disabled\n",
    "enable_disable_lora(enabled=False)\n",
    "test()"
   ]
  }
 ],
 "metadata": {
  "kernelspec": {
   "display_name": "Python 3",
   "language": "python",
   "name": "python3"
  },
  "language_info": {
   "codemirror_mode": {
    "name": "ipython",
    "version": 3
   },
   "file_extension": ".py",
   "mimetype": "text/x-python",
   "name": "python",
   "nbconvert_exporter": "python",
   "pygments_lexer": "ipython3",
   "version": "3.8.10"
  }
 },
 "nbformat": 4,
 "nbformat_minor": 5
}
